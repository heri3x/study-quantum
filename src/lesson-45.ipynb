{
 "cells": [
  {
   "cell_type": "markdown",
   "id": "9ac5dcb3-5918-49f0-a142-7291bab6f803",
   "metadata": {},
   "source": [
    "# Lesson 45\n",
    "\n",
    "量子もつれを体験する"
   ]
  },
  {
   "cell_type": "code",
   "execution_count": 1,
   "id": "ddf7624c-1f5f-46cc-91fa-a9eb66ac078c",
   "metadata": {},
   "outputs": [],
   "source": [
    "from blueqat import Circuit"
   ]
  },
  {
   "cell_type": "markdown",
   "id": "4e9651ce-41ea-4b1c-9520-c98d17984d4e",
   "metadata": {},
   "source": [
    "## 2量子ビットの量子もつれ"
   ]
  },
  {
   "cell_type": "markdown",
   "id": "e1db57ad-81b2-4960-974b-ad06926b2344",
   "metadata": {},
   "source": [
    "### (1) 初期化\n",
    "\n",
    "すべての量子ビットを0に初期化。"
   ]
  },
  {
   "cell_type": "code",
   "execution_count": 2,
   "id": "10757cfd-3e2c-47c5-98fe-5ff4b75e3ff4",
   "metadata": {},
   "outputs": [],
   "source": [
    "c = Circuit()"
   ]
  },
  {
   "cell_type": "markdown",
   "id": "00060ab5-0dff-4b1f-bd89-c02de720a18a",
   "metadata": {},
   "source": [
    "### (2) 演算\n",
    "\n",
    "HゲートとCNOTゲートで2つの量子ビットのもつれを作る。\n",
    "\n",
    "```\n",
    "ビット0: Hゲート → CNOTゲート (コントロールビット)\n",
    "ビット1:   　　　→ CNOTゲート (ターゲットビット)\n",
    "```\n",
    "\n",
    "Hゲートは、0と1が50%の重ね合わせ状態にする。  \n",
    "CNOTゲートは、コントロールビットが1ならターゲットビットを反転させる。コントロールビットが0なら何もしない。"
   ]
  },
  {
   "cell_type": "code",
   "execution_count": 3,
   "id": "f57f7bf4-8454-4f76-b3b7-b181d2f840bc",
   "metadata": {},
   "outputs": [],
   "source": [
    "c = c.h[0].cx[0,1]"
   ]
  },
  {
   "cell_type": "markdown",
   "id": "eb6f4c20-24b9-4ef1-bcae-8e21375098f7",
   "metadata": {},
   "source": [
    "### (3) 観測"
   ]
  },
  {
   "cell_type": "code",
   "execution_count": 4,
   "id": "fedfc00e-d69d-4276-aeee-e2d7a982e457",
   "metadata": {},
   "outputs": [],
   "source": [
    "c = c.m[:]"
   ]
  },
  {
   "cell_type": "markdown",
   "id": "5fd1f06d-fb7a-4d49-9f51-8e60a476d670",
   "metadata": {},
   "source": [
    "### (4) 実行\n",
    "\n",
    "量子ビット0と1について、'00'と'11'がそれぞれ50%の確率で観測される。量子ビット0と1はもつれているので '01'や'10'はあらわれない。"
   ]
  },
  {
   "cell_type": "code",
   "execution_count": 5,
   "id": "a0e15471-3fd6-4c06-9156-abb1c6fef857",
   "metadata": {},
   "outputs": [
    {
     "data": {
      "text/plain": [
       "Counter({'00': 53, '11': 47})"
      ]
     },
     "execution_count": 5,
     "metadata": {},
     "output_type": "execute_result"
    }
   ],
   "source": [
    "c.run(shots=100)"
   ]
  },
  {
   "cell_type": "code",
   "execution_count": 6,
   "id": "eaae5a44-635b-4f4b-9456-2c913adcbe86",
   "metadata": {},
   "outputs": [
    {
     "data": {
      "text/plain": [
       "Counter({'00': 47, '11': 53})"
      ]
     },
     "execution_count": 6,
     "metadata": {},
     "output_type": "execute_result"
    }
   ],
   "source": [
    "c.run(shots=100)"
   ]
  },
  {
   "cell_type": "code",
   "execution_count": 7,
   "id": "c6a61a4b-fbff-4c9d-b71e-bd78fe60964b",
   "metadata": {},
   "outputs": [
    {
     "data": {
      "text/plain": [
       "Counter({'00': 51, '11': 49})"
      ]
     },
     "execution_count": 7,
     "metadata": {},
     "output_type": "execute_result"
    }
   ],
   "source": [
    "c.run(shots=100)"
   ]
  }
 ],
 "metadata": {
  "kernelspec": {
   "display_name": "Python 3 (ipykernel)",
   "language": "python",
   "name": "python3"
  },
  "language_info": {
   "codemirror_mode": {
    "name": "ipython",
    "version": 3
   },
   "file_extension": ".py",
   "mimetype": "text/x-python",
   "name": "python",
   "nbconvert_exporter": "python",
   "pygments_lexer": "ipython3",
   "version": "3.10.6"
  }
 },
 "nbformat": 4,
 "nbformat_minor": 5
}
