{
 "cells": [
  {
   "cell_type": "markdown",
   "id": "36e289e9-95ba-41e5-877d-ffa09e608d25",
   "metadata": {},
   "source": [
    "# Lesson 52\n",
    "\n",
    "量子アニーリングを体験してみよう"
   ]
  },
  {
   "cell_type": "code",
   "execution_count": 1,
   "id": "817032ef-a137-4afc-ae63-e58cd63fde24",
   "metadata": {},
   "outputs": [],
   "source": [
    "from wildqat import *"
   ]
  },
  {
   "cell_type": "markdown",
   "id": "f15d60fb-7587-4322-95ce-7f01f431c739",
   "metadata": {},
   "source": [
    "## Wildqat でプログラムを実行する"
   ]
  },
  {
   "cell_type": "code",
   "execution_count": 2,
   "id": "50debe73-65a0-4704-985e-a3c0be1e36ba",
   "metadata": {},
   "outputs": [
    {
     "data": {
      "text/plain": [
       "[0, 1, 0, 1, 1]"
      ]
     },
     "execution_count": 2,
     "metadata": {},
     "output_type": "execute_result"
    }
   ],
   "source": [
    "a = opt()\n",
    "a.J = [\n",
    "    [0,1,0,1,0],\n",
    "    [0,0,1,0,0],\n",
    "    [0,0,0,1,1],\n",
    "    [0,0,0,0,1],\n",
    "    [0,0,0,0,0]]\n",
    "a.run()"
   ]
  }
 ],
 "metadata": {
  "kernelspec": {
   "display_name": "Python 3 (ipykernel)",
   "language": "python",
   "name": "python3"
  },
  "language_info": {
   "codemirror_mode": {
    "name": "ipython",
    "version": 3
   },
   "file_extension": ".py",
   "mimetype": "text/x-python",
   "name": "python",
   "nbconvert_exporter": "python",
   "pygments_lexer": "ipython3",
   "version": "3.7.13"
  }
 },
 "nbformat": 4,
 "nbformat_minor": 5
}
