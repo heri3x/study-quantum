{
 "cells": [
  {
   "cell_type": "markdown",
   "id": "041e124a-6e36-4bca-ae2e-d8be1c13458f",
   "metadata": {},
   "source": [
    "# Lesson 46\n",
    "\n",
    "足し算回路のプログラミング"
   ]
  },
  {
   "cell_type": "code",
   "execution_count": 1,
   "id": "33ae9636-9686-40df-b70a-69b51c943a5e",
   "metadata": {},
   "outputs": [],
   "source": [
    "from blueqat import Circuit"
   ]
  },
  {
   "cell_type": "markdown",
   "id": "8b7dacaa-f173-4ef8-8d2f-ca0c00ef3af7",
   "metadata": {},
   "source": [
    "## 半加算器の作成"
   ]
  },
  {
   "cell_type": "markdown",
   "id": "2f5b08ce-5848-450e-a5e2-f165d4156b06",
   "metadata": {},
   "source": [
    "### (1) 初期化\n",
    "\n",
    "すべての量子ビットを0に初期化。"
   ]
  },
  {
   "cell_type": "code",
   "execution_count": 2,
   "id": "411ecf87-1e99-4e16-88c9-3be21bb0c899",
   "metadata": {},
   "outputs": [],
   "source": [
    "c = Circuit()"
   ]
  },
  {
   "cell_type": "markdown",
   "id": "0f8b0e67-515b-4c3a-9076-09e0d457e4d3",
   "metadata": {},
   "source": [
    "### (2) 演算\n",
    "\n",
    "ビット0とビット1を足し算する半加算器を作成する。合計値をビット2に、キャリーをビット3に出力する。\n",
    "\n",
    "```\n",
    "ビット0: Hゲート → CNOTゲート(C) →     　　　    → CCNOTゲート(C)\n",
    "ビット1: Hゲート →     　　　    → CNOTゲート(C) → CCNOTゲート(C)\n",
    "ビット2:  　　　 → CNOTゲート(T) →     　　　    → \n",
    "ビット3:   　　　→     　　　    → CNOTゲート(T) → CCNOTゲート(T)\n",
    "```\n",
    "\n",
    "Hゲートは、0と1が50%の重ね合わせ状態にする。  \n",
    "CNOTゲートは、コントロールビットが1ならターゲットビットを反転させる。コントロールビットが0なら何もしない。\n",
    "CCNOTゲート(トフォリゲート)は、2つのコントロールビットがどちらも1ならターゲットビットを反転させる。それ以外は何もしない。\n"
   ]
  },
  {
   "cell_type": "code",
   "execution_count": 3,
   "id": "c08bb2fa-fa19-4812-bb38-041d5f329072",
   "metadata": {},
   "outputs": [],
   "source": [
    "c = c.h[0,1].cx[0,2].cx[1,2].ccx[0,1,3]"
   ]
  },
  {
   "cell_type": "markdown",
   "id": "0bf28dab-ae12-4d0c-bda0-fb221efaa29a",
   "metadata": {},
   "source": [
    "### (3) 観測\n"
   ]
  },
  {
   "cell_type": "code",
   "execution_count": 4,
   "id": "553f50a2-b896-4906-a511-9e0d26112522",
   "metadata": {},
   "outputs": [],
   "source": [
    "c = c.m[:]"
   ]
  },
  {
   "cell_type": "markdown",
   "id": "9c2a58f3-ef08-4bb8-9bc5-6a39142e3382",
   "metadata": {},
   "source": [
    "### (4) 実行\n",
    "\n",
    "以下の4種類の加算結果がそれぞれ25%の確率で出力される。\n",
    "\n",
    "- 入力が '00' の場合: 出力は '00'\n",
    "- 入力が '01' の場合: 出力は '10'\n",
    "- 入力が '10' の場合: 出力は '10'\n",
    "- 入力が '11' の場合: 出力は '11'\n"
   ]
  },
  {
   "cell_type": "code",
   "execution_count": 5,
   "id": "83102d0b-fdac-4bf3-8fdf-d3ec54a76821",
   "metadata": {},
   "outputs": [
    {
     "data": {
      "text/plain": [
       "Counter({'0110': 26, '1010': 16, '1101': 31, '0000': 27})"
      ]
     },
     "execution_count": 5,
     "metadata": {},
     "output_type": "execute_result"
    }
   ],
   "source": [
    "c.run(shots=100)"
   ]
  },
  {
   "cell_type": "code",
   "execution_count": 6,
   "id": "f9d9cf32-ba5e-48f5-b976-90928ad1b4c4",
   "metadata": {},
   "outputs": [
    {
     "data": {
      "text/plain": [
       "Counter({'1101': 28, '1010': 28, '0000': 26, '0110': 18})"
      ]
     },
     "execution_count": 6,
     "metadata": {},
     "output_type": "execute_result"
    }
   ],
   "source": [
    "c.run(shots=100)"
   ]
  },
  {
   "cell_type": "code",
   "execution_count": 7,
   "id": "a8e4d0cb-ad69-49a6-ab93-c8032751112d",
   "metadata": {},
   "outputs": [
    {
     "data": {
      "text/plain": [
       "Counter({'0000': 23, '1010': 27, '1101': 29, '0110': 21})"
      ]
     },
     "execution_count": 7,
     "metadata": {},
     "output_type": "execute_result"
    }
   ],
   "source": [
    "c.run(shots=100)"
   ]
  }
 ],
 "metadata": {
  "kernelspec": {
   "display_name": "Python 3 (ipykernel)",
   "language": "python",
   "name": "python3"
  },
  "language_info": {
   "codemirror_mode": {
    "name": "ipython",
    "version": 3
   },
   "file_extension": ".py",
   "mimetype": "text/x-python",
   "name": "python",
   "nbconvert_exporter": "python",
   "pygments_lexer": "ipython3",
   "version": "3.10.6"
  }
 },
 "nbformat": 4,
 "nbformat_minor": 5
}
