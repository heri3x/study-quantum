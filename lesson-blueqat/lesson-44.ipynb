{
 "cells": [
  {
   "cell_type": "markdown",
   "id": "66542324-63e1-456c-a9b6-5aed4a47ce91",
   "metadata": {},
   "source": [
    "# Lesson 44\n",
    "量子ビットの重ね合わせを体験する"
   ]
  },
  {
   "cell_type": "code",
   "execution_count": 1,
   "id": "c3ad8237-18dc-4668-9b89-9f7ad8b547ac",
   "metadata": {},
   "outputs": [],
   "source": [
    "from blueqat import Circuit"
   ]
  },
  {
   "cell_type": "markdown",
   "id": "6c27a977-521f-4f8e-932a-f502eb6083ba",
   "metadata": {
    "tags": []
   },
   "source": [
    "## １つの量子の重ね合わせ"
   ]
  },
  {
   "cell_type": "markdown",
   "id": "6cb9b99f-55a1-4f19-90a9-898331b56efc",
   "metadata": {},
   "source": [
    "### (1) 初期化\n",
    "\n",
    "Circuitクラス (量子回路クラス) のオブジェクトを作成する。"
   ]
  },
  {
   "cell_type": "code",
   "execution_count": 2,
   "id": "804f5e7d-29cc-40dd-915b-b46010cd131c",
   "metadata": {},
   "outputs": [],
   "source": [
    "c = Circuit()"
   ]
  },
  {
   "cell_type": "markdown",
   "id": "2876c701-10f6-4e11-8178-8e2305c5f300",
   "metadata": {},
   "source": [
    "### (2) 演算\n",
    "\n",
    "Circuit上の0ビット目に量子ゲート「Hゲート(アダマールゲート)」を配置する。対象の量子ビットは＋状態になり、観測するたびに0と1がそれぞれ50%の確率で出力される。これを量子の重ね合わせと言う。"
   ]
  },
  {
   "cell_type": "code",
   "execution_count": 3,
   "id": "76d7aebf-0b2a-4f2b-a88d-6c8bbfdad231",
   "metadata": {},
   "outputs": [],
   "source": [
    "c = c.h[0]"
   ]
  },
  {
   "cell_type": "markdown",
   "id": "69fdb6e4-4591-43dc-9476-60a0bdc6346d",
   "metadata": {},
   "source": [
    "### (3) 観測\n",
    "\n",
    "m\\[:\\] はすべての量子ビットを測定する。特定の量子ビットだけを測定したい場合、m\\[2:4\\] (※量子ビット2～4を測定) のように指定する。"
   ]
  },
  {
   "cell_type": "code",
   "execution_count": 4,
   "id": "6c69a90d-9860-47ef-83a8-9b3337fbef46",
   "metadata": {},
   "outputs": [],
   "source": [
    "c = c.m[:]"
   ]
  },
  {
   "cell_type": "markdown",
   "id": "56dc17cf-47c9-4d7d-a1e3-38bb08e2d0f4",
   "metadata": {},
   "source": [
    "### (4) 実行\n",
    "\n",
    "run() メソッドを呼び出すと、引数shotsに指定した回数だけ実行して結果を返す。例えば下記の実行結果は、100回実行して 1が51回、0が49回返されたことを示す。\n",
    "> Counter({'1': 51, '0': 49})"
   ]
  },
  {
   "cell_type": "code",
   "execution_count": 5,
   "id": "895d4df9-85c8-4931-9432-bda6e1cd6fe8",
   "metadata": {},
   "outputs": [
    {
     "data": {
      "text/plain": [
       "Counter({'0': 59, '1': 41})"
      ]
     },
     "execution_count": 5,
     "metadata": {},
     "output_type": "execute_result"
    }
   ],
   "source": [
    "c.run(shots=100)"
   ]
  },
  {
   "cell_type": "code",
   "execution_count": 6,
   "id": "dce4e926-8c01-43bd-9c5f-c8456c70aae2",
   "metadata": {},
   "outputs": [
    {
     "data": {
      "text/plain": [
       "Counter({'1': 61, '0': 39})"
      ]
     },
     "execution_count": 6,
     "metadata": {},
     "output_type": "execute_result"
    }
   ],
   "source": [
    "c.run(shots=100)"
   ]
  },
  {
   "cell_type": "code",
   "execution_count": 7,
   "id": "4d1857cc-3e67-4871-8104-41d450ef51ad",
   "metadata": {},
   "outputs": [
    {
     "data": {
      "text/plain": [
       "Counter({'1': 46, '0': 54})"
      ]
     },
     "execution_count": 7,
     "metadata": {},
     "output_type": "execute_result"
    }
   ],
   "source": [
    "c.run(shots=100)"
   ]
  },
  {
   "cell_type": "markdown",
   "id": "912a12b4-4606-4982-9752-6800b0f8b009",
   "metadata": {},
   "source": [
    "## 2つの量子の重ね合わせ"
   ]
  },
  {
   "cell_type": "markdown",
   "id": "16b969a6-464e-41b7-9e21-586bf84473ec",
   "metadata": {},
   "source": [
    "### (1) 初期化"
   ]
  },
  {
   "cell_type": "code",
   "execution_count": 8,
   "id": "bf72852d-e8e2-466c-a815-974694916fb7",
   "metadata": {},
   "outputs": [],
   "source": [
    "c = Circuit()"
   ]
  },
  {
   "cell_type": "markdown",
   "id": "4a83acf9-98e4-42b0-a5e4-e77d693e8acd",
   "metadata": {},
   "source": [
    "### (2) 演算\n",
    "\n",
    "Hゲートを0ビット目と1ビット目に配置。"
   ]
  },
  {
   "cell_type": "code",
   "execution_count": 9,
   "id": "cb0911f3-cd38-4dde-b75d-6e3d03bc801a",
   "metadata": {},
   "outputs": [],
   "source": [
    "c = c.h[0,1]"
   ]
  },
  {
   "cell_type": "markdown",
   "id": "fff0d9ad-6fbe-4c4d-8a8f-8e6dea6d45e7",
   "metadata": {},
   "source": [
    "### (3) 観測"
   ]
  },
  {
   "cell_type": "code",
   "execution_count": 10,
   "id": "0bd5d5f1-baa4-45e3-99e3-2e3551eb3027",
   "metadata": {},
   "outputs": [],
   "source": [
    "c = c.m[:]"
   ]
  },
  {
   "cell_type": "markdown",
   "id": "3e44e1bb-5838-4e44-9a36-79a9352be013",
   "metadata": {},
   "source": [
    "### (4) 実行\n",
    "\n",
    "量子ビット0と1について、'00', '01', '10', '11' がそれぞれ25%の確率で観測される。"
   ]
  },
  {
   "cell_type": "code",
   "execution_count": 11,
   "id": "fbe8457d-cbff-418d-bbf0-fa363c9637bc",
   "metadata": {},
   "outputs": [
    {
     "data": {
      "text/plain": [
       "Counter({'01': 23, '11': 27, '10': 26, '00': 24})"
      ]
     },
     "execution_count": 11,
     "metadata": {},
     "output_type": "execute_result"
    }
   ],
   "source": [
    "c.run(shots=100)"
   ]
  },
  {
   "cell_type": "code",
   "execution_count": 12,
   "id": "1e41ac36-753b-42a0-8045-5b1c5f592b40",
   "metadata": {},
   "outputs": [
    {
     "data": {
      "text/plain": [
       "Counter({'01': 29, '10': 25, '00': 19, '11': 27})"
      ]
     },
     "execution_count": 12,
     "metadata": {},
     "output_type": "execute_result"
    }
   ],
   "source": [
    "c.run(shots=100)"
   ]
  },
  {
   "cell_type": "code",
   "execution_count": 13,
   "id": "c91519bd-f76b-4b7f-bd40-223956246dd5",
   "metadata": {},
   "outputs": [
    {
     "data": {
      "text/plain": [
       "Counter({'11': 27, '01': 21, '10': 24, '00': 28})"
      ]
     },
     "execution_count": 13,
     "metadata": {},
     "output_type": "execute_result"
    }
   ],
   "source": [
    "c.run(shots=100)"
   ]
  }
 ],
 "metadata": {
  "kernelspec": {
   "display_name": "Python 3 (ipykernel)",
   "language": "python",
   "name": "python3"
  },
  "language_info": {
   "codemirror_mode": {
    "name": "ipython",
    "version": 3
   },
   "file_extension": ".py",
   "mimetype": "text/x-python",
   "name": "python",
   "nbconvert_exporter": "python",
   "pygments_lexer": "ipython3",
   "version": "3.10.6"
  }
 },
 "nbformat": 4,
 "nbformat_minor": 5
}
